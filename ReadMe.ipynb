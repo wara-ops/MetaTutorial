{
 "cells": [
  {
   "cell_type": "markdown",
   "id": "6284b3df",
   "metadata": {
    "cell_marker": "\"\"\"",
    "lines_to_next_cell": 0
   },
   "source": [
    "# Introduction to WARA-ops portal\n",
    "\n",
    "As you have gotten this far, the assumption is that you know how to start the JupyterLab environment and how to open a notebook. In what follows, you'll be guided through the key features of the portal, how to access the datasets, and introduced to the most important services available.\n",
    "\n",
    "## Running code in notebooks\n",
    "The easiest way to get started is to write and run code in notebooks. Notebooks consist of *cells* that can be *run* to produce output, like in the cell below. To run it, select it and press the `shift` and `enter` keys simultaneously. Go ahead and try it below!"
   ]
  },
  {
   "cell_type": "code",
   "execution_count": null,
   "id": "89e50d88",
   "metadata": {
    "lines_to_next_cell": 0
   },
   "outputs": [],
   "source": [
    "1+3"
   ]
  },
  {
   "cell_type": "markdown",
   "id": "6b37de5c",
   "metadata": {
    "cell_marker": "\"\"\"",
    "lines_to_next_cell": 0
   },
   "source": [
    "Try changing the contents of the cell above to something else and run the cell again.\n",
    "\n",
    "The default content of a notebook cell is Python code."
   ]
  },
  {
   "cell_type": "code",
   "execution_count": null,
   "id": "1769c78a",
   "metadata": {
    "lines_to_next_cell": 0
   },
   "outputs": [],
   "source": [
    "print(\"Hello Python World!\")"
   ]
  },
  {
   "cell_type": "markdown",
   "id": "5cc20249",
   "metadata": {
    "cell_marker": "\"\"\"",
    "lines_to_next_cell": 0
   },
   "source": [
    "Some cells may start with an exclamation mark (!) which indicates that what follows is a [*shell command*](https://en.wikipedia.org/wiki/Unix_shell), e.g.:"
   ]
  },
  {
   "cell_type": "code",
   "execution_count": null,
   "id": "35e45738",
   "metadata": {
    "lines_to_next_cell": 0
   },
   "outputs": [],
   "source": [
    "!ls -l"
   ]
  },
  {
   "cell_type": "markdown",
   "id": "2f48dd47",
   "metadata": {
    "cell_marker": "\"\"\"",
    "lines_to_next_cell": 0
   },
   "source": [
    "Try it!\n",
    "\n",
    "For more info on notebooks see <https://docs.jupyter.org/en/latest/>"
   ]
  },
  {
   "cell_type": "markdown",
   "id": "2675f82b",
   "metadata": {
    "cell_marker": "\"\"\"",
    "lines_to_next_cell": 0
   },
   "source": [
    "## Getting the tutorials\n",
    "\n",
    "The tutorials are stored in a version control (git) repository and to retrieve a particular tutorial you'll use a `git clone` command, but don't worry, all you have to do is run a cell in this notebook and then click a link to open it.\n",
    "\n",
    "Each tutorial is described below, and they are probably best consumed in order, but you are of course free to skip ahead if you feel adventurous!\n",
    "\n",
    "Should you for some reason want to start over with a fresh tutorial, remember to rename the old tutoral folder if you want to keep your work. If you don't want to keep the old version it is a good idea to delete the old folder using the `rm -rf` command given for each tutorial *before* you run the `git clone` command."
   ]
  },
  {
   "cell_type": "markdown",
   "id": "2c4bb8ce",
   "metadata": {
    "cell_marker": "\"\"\"",
    "lines_to_next_cell": 0
   },
   "source": [
    "### **Tutorial:** Using data from the portal and the data client\n",
    "\n",
    "This basic tutorial will show you how to browse the available datasets and how to access them using the data portal client and a mandatory *access token*. Install it by running the cell below:"
   ]
  },
  {
   "cell_type": "code",
   "execution_count": null,
   "id": "3ec1880e",
   "metadata": {
    "lines_to_next_cell": 0
   },
   "outputs": [],
   "source": [
    "!git clone https://github.com/wara-ops/PortalBasics.git"
   ]
  },
  {
   "cell_type": "markdown",
   "id": "7729c0b0",
   "metadata": {
    "cell_marker": "\"\"\"",
    "lines_to_next_cell": 0
   },
   "source": [
    "If you get an error (or just wan't to remove this tutorial completely along with any changes you made), delete the leading comment marker (#) in the cell below and run it, then repeat the above step."
   ]
  },
  {
   "cell_type": "code",
   "execution_count": null,
   "id": "bb1bb602",
   "metadata": {
    "lines_to_next_cell": 0
   },
   "outputs": [],
   "source": [
    "#!rm -rf PortalBasics"
   ]
  },
  {
   "cell_type": "markdown",
   "id": "96204ce4",
   "metadata": {
    "cell_marker": "\"\"\""
   },
   "source": [
    "To open the tutorial after cloning it, click this link: [PortalBasics tutorial](./PortalBasics/PortalBasics.ipynb)"
   ]
  },
  {
   "cell_type": "markdown",
   "id": "b5f06d7c",
   "metadata": {
    "cell_marker": "\"\"\"",
    "lines_to_next_cell": 0
   },
   "source": [
    "### **Tutorial:** An introduction to the computing environment\n",
    "\n",
    "In this tutorial you will work with log data from the Xerces cloud service that is running in the Ericsson Research Data Center (ER DC) in Lund. The goal is to introduce you to the WARA-Ops portal and learn how to work with large data sets from a real-world cloud service.\n",
    "\n",
    "Install it by running the cell below:"
   ]
  },
  {
   "cell_type": "code",
   "execution_count": null,
   "id": "02bc5f23",
   "metadata": {
    "lines_to_next_cell": 0
   },
   "outputs": [],
   "source": [
    "!git clone https://github.com/wara-ops/PortalAndPandas.git"
   ]
  },
  {
   "cell_type": "markdown",
   "id": "9c77a0ea",
   "metadata": {
    "cell_marker": "\"\"\"",
    "lines_to_next_cell": 0
   },
   "source": [
    "If you get an error (or just wan't to remove this tutorial completely along with any changes you made), delete the leading comment marker (#) in the cell below and run it, then repeat the above step."
   ]
  },
  {
   "cell_type": "code",
   "execution_count": null,
   "id": "0692fa29",
   "metadata": {
    "lines_to_next_cell": 0
   },
   "outputs": [],
   "source": [
    "#!rm -rf PortalAndPandas"
   ]
  },
  {
   "cell_type": "markdown",
   "id": "9fd04a15",
   "metadata": {
    "cell_marker": "\"\"\""
   },
   "source": [
    "To open the tutorial after cloning it, click this link: [PortalAndPandas tutorial](./PortalAndPandas/introduction.ipynb)"
   ]
  },
  {
   "cell_type": "markdown",
   "id": "c11a9a42",
   "metadata": {
    "cell_marker": "\"\"\"",
    "lines_to_next_cell": 0
   },
   "source": [
    "### **Tutorial:** Data analysis (1)\n",
    "\n",
    "This tutorial provides an example on how to work with the data in the `5Gdata` dataset. N.B. This is a *restricted* dataset, and if you don't have access you should probably try \"Data analysis (2)\" below instead.\n",
    "\n",
    "Install it by running the cell below:"
   ]
  },
  {
   "cell_type": "code",
   "execution_count": null,
   "id": "0cde2546",
   "metadata": {
    "lines_to_next_cell": 0
   },
   "outputs": [],
   "source": [
    "!git clone https://github.com/wara-ops/DataAnalysis1.git"
   ]
  },
  {
   "cell_type": "markdown",
   "id": "dca88b1e",
   "metadata": {
    "cell_marker": "\"\"\"",
    "lines_to_next_cell": 0
   },
   "source": [
    "If you get an error (or just wan't to remove this tutorial completely along with any changes you made), delete the leading comment marker (#) in the cell below and run it, then repeat the above step."
   ]
  },
  {
   "cell_type": "code",
   "execution_count": null,
   "id": "77bc15d6",
   "metadata": {
    "lines_to_next_cell": 0
   },
   "outputs": [],
   "source": [
    "#!rm -rf DataAnalysis1"
   ]
  },
  {
   "cell_type": "markdown",
   "id": "ee705fc9",
   "metadata": {
    "cell_marker": "\"\"\""
   },
   "source": [
    "To open the tutorial after cloning it, click this link: [Data analysis 1 tutorial](./DataAnalysis1/5Gdata_example.ipynb)"
   ]
  },
  {
   "cell_type": "markdown",
   "id": "4ba48939",
   "metadata": {
    "cell_marker": "\"\"\"",
    "lines_to_next_cell": 0
   },
   "source": [
    "### **Tutorial:** Data analysis (2)\n",
    "\n",
    "This tutorial provides an example on how to the data in the `ERDCmetrics` dataset can be imported into a jupyter notebook on the compute portal. Some basic studies of the data and clustering are also performed to give you an idea of how the data could be ivestigated.\n",
    "\n",
    "Install it by running the cell below:"
   ]
  },
  {
   "cell_type": "code",
   "execution_count": null,
   "id": "117d8631",
   "metadata": {
    "lines_to_next_cell": 0
   },
   "outputs": [],
   "source": [
    "!git clone https://github.com/wara-ops/DataAnalysis2.git"
   ]
  },
  {
   "cell_type": "markdown",
   "id": "49c7ef7c",
   "metadata": {
    "cell_marker": "\"\"\"",
    "lines_to_next_cell": 0
   },
   "source": [
    "If you get an error (or just wan't to remove this tutorial completely along with any changes you made), delete the leading comment marker (#) in the cell below and run it, then repeat the above step."
   ]
  },
  {
   "cell_type": "code",
   "execution_count": null,
   "id": "c35a574a",
   "metadata": {
    "lines_to_next_cell": 0
   },
   "outputs": [],
   "source": [
    "#!rm -rf DataAnalysis2"
   ]
  },
  {
   "cell_type": "markdown",
   "id": "ab907ea7",
   "metadata": {
    "cell_marker": "\"\"\""
   },
   "source": [
    "To open the tutorial after cloning it, click this link: [Data analysis (2) tutorial](./DataAnalysis2/ERDCmetrics_example.ipynb)"
   ]
  },
  {
   "cell_type": "markdown",
   "id": "a36f35c0",
   "metadata": {
    "cell_marker": "\"\"\"",
    "lines_to_next_cell": 0
   },
   "source": [
    "### **Tutorial:** Log file analysis\n",
    "\n",
    "In this tutorial you'll be ivestigating a hacking incident by examining log files.\n",
    "\n",
    "Install it by running the cell below:"
   ]
  },
  {
   "cell_type": "code",
   "execution_count": null,
   "id": "0a0cc7e1",
   "metadata": {
    "lines_to_next_cell": 0
   },
   "outputs": [],
   "source": [
    "!git clone https://github.com/wara-ops/Advenica.git"
   ]
  },
  {
   "cell_type": "markdown",
   "id": "8d54f122",
   "metadata": {
    "cell_marker": "\"\"\"",
    "lines_to_next_cell": 0
   },
   "source": [
    "If you get an error (or just wan't to remove this tutorial completely along with any changes you made), delete the leading comment marker (#) in the cell below and run it, then repeat the above step."
   ]
  },
  {
   "cell_type": "code",
   "execution_count": null,
   "id": "132ecfc3",
   "metadata": {
    "lines_to_next_cell": 0
   },
   "outputs": [],
   "source": [
    "#!rm -rf Advenica"
   ]
  },
  {
   "cell_type": "markdown",
   "id": "66b0c58e",
   "metadata": {
    "cell_marker": "\"\"\""
   },
   "source": [
    "To open the tutorial after cloning it, click these links: [Advenica tutorial part 1](./Advenica/IntrusionDetection-Part1.ipynb) and [part 2](./Advenica/IntrusionDetection-Part2.ipynb)"
   ]
  },
  {
   "cell_type": "markdown",
   "id": "9336aa40",
   "metadata": {
    "cell_marker": "\"\"\"",
    "lines_to_next_cell": 0
   },
   "source": [
    "### **Tutorial:** LLM-as-a-Service\n",
    "\n",
    "This is a quick introduction to using the AI-related services that are part of the WARA-Ops data portal.\n",
    "\n",
    "Install it by running the cell below:"
   ]
  },
  {
   "cell_type": "code",
   "execution_count": null,
   "id": "a2599181",
   "metadata": {
    "lines_to_next_cell": 0
   },
   "outputs": [],
   "source": [
    "!git clone https://github.com/wara-ops/LLM-as-a-service.git"
   ]
  },
  {
   "cell_type": "markdown",
   "id": "84ac43d0",
   "metadata": {
    "cell_marker": "\"\"\"",
    "lines_to_next_cell": 0
   },
   "source": [
    "If you get an error (or just wan't to remove this tutorial completely along with any changes you made), delete the leading comment marker (#) in the cell below and run it, then repeat the above step."
   ]
  },
  {
   "cell_type": "code",
   "execution_count": null,
   "id": "3d1e5086",
   "metadata": {
    "lines_to_next_cell": 0
   },
   "outputs": [],
   "source": [
    "#!rm -rf LLM-as-a-service"
   ]
  },
  {
   "cell_type": "markdown",
   "id": "37ed6f8c",
   "metadata": {
    "cell_marker": "\"\"\""
   },
   "source": [
    "To open the tutorial after cloning it, click this link: [LLM-as-a-Service tutorial](./LLM-as-a-service/LLM-as-a-service.ipynb)"
   ]
  },
  {
   "cell_type": "markdown",
   "id": "70f0afc0",
   "metadata": {
    "cell_marker": "\"\"\"",
    "lines_to_next_cell": 0
   },
   "source": [
    "### **Tutorial:** LLM with Retrieval Augmented Generation (RAG)\n",
    "\n",
    "Retrieval Augmented Generation (RAG) is intended to alleviate some of the most obvious problems displayed by Large Language Models (LLMs), such as hallucination (where an LLM starts making up \"facts\" and stating them as such) and not being able to reference the source for its claims. RAG consists of three steps; *retrieval* of context-specific information, *augmenting* (i.e. adding context to) the LLM prompt, and letting the LLM generate an answer taking that context into account, providing references to the context.\n",
    "\n",
    "Install it by running the cell below:"
   ]
  },
  {
   "cell_type": "code",
   "execution_count": null,
   "id": "8ab17e4a",
   "metadata": {
    "lines_to_next_cell": 0
   },
   "outputs": [],
   "source": [
    "!git clone https://github.com/wara-ops/RAG-tutorial.git"
   ]
  },
  {
   "cell_type": "markdown",
   "id": "5dfeab86",
   "metadata": {
    "cell_marker": "\"\"\"",
    "lines_to_next_cell": 0
   },
   "source": [
    "If you get an error (or just wan't to remove this tutorial completely along with any changes you made), delete the leading comment marker (#) in the cell below and run it, then repeat the above step."
   ]
  },
  {
   "cell_type": "code",
   "execution_count": null,
   "id": "fdb97909",
   "metadata": {
    "lines_to_next_cell": 0
   },
   "outputs": [],
   "source": [
    "#!rm -rf RAG-tutorial"
   ]
  },
  {
   "cell_type": "markdown",
   "id": "a20663e7",
   "metadata": {
    "cell_marker": "\"\"\""
   },
   "source": [
    "To open the tutorial after cloning it, click this link: [LLM with RAG tutorial](./RAG-tutorial/intro.ipynb)"
   ]
  },
  {
   "cell_type": "markdown",
   "id": "5ecbc02c",
   "metadata": {
    "cell_marker": "\"\"\"",
    "lines_to_next_cell": 0
   },
   "source": [
    "### **Tutorial:** LLM tool calling\n",
    "\n",
    "LLM tool calling bridges the gap between a LLM's natural language processing (NLP) capabilities and external systems, offering versatile applications in automation, data retrieval, and more.\n",
    "\n",
    "Install it by running the cell below:"
   ]
  },
  {
   "cell_type": "code",
   "execution_count": null,
   "id": "212470f8",
   "metadata": {
    "lines_to_next_cell": 0
   },
   "outputs": [],
   "source": [
    "!git clone https://github.com/wara-ops/LLM-tool-calling.git"
   ]
  },
  {
   "cell_type": "markdown",
   "id": "6a76f5a2",
   "metadata": {
    "cell_marker": "\"\"\"",
    "lines_to_next_cell": 0
   },
   "source": [
    "If you get an error (or just wan't to remove this tutorial completely along with any changes you made), delete the leading comment marker (#) in the cell below and run it, then repeat the above step."
   ]
  },
  {
   "cell_type": "code",
   "execution_count": null,
   "id": "8beb3830",
   "metadata": {
    "lines_to_next_cell": 0
   },
   "outputs": [],
   "source": [
    "#!rm -rf LLM-tool-calling"
   ]
  },
  {
   "cell_type": "markdown",
   "id": "8555ce4a",
   "metadata": {
    "cell_marker": "\"\"\""
   },
   "source": [
    "To open the tutorial after cloning it, click this link: [LLM tool calling tutorial](./LLM-tool-calling/LLM-tool-calling.ipynb)"
   ]
  },
  {
   "cell_type": "markdown",
   "id": "15e3f7d0",
   "metadata": {
    "cell_marker": "\"\"\""
   },
   "source": [
    "## Additional/Extra (advanced) subjects"
   ]
  },
  {
   "cell_type": "markdown",
   "id": "5fd5d6e8",
   "metadata": {
    "cell_marker": "\"\"\"",
    "lines_to_next_cell": 0
   },
   "source": [
    "### **Tutorial:** Managing the python environment\n",
    "\n",
    "Creating a custom virtual environment\n",
    "\n",
    "Install it by running the cell below:"
   ]
  },
  {
   "cell_type": "code",
   "execution_count": null,
   "id": "691291ce",
   "metadata": {
    "lines_to_next_cell": 0
   },
   "outputs": [],
   "source": [
    "!git clone https://github.com/wara-ops/ManagingPython.git"
   ]
  },
  {
   "cell_type": "markdown",
   "id": "85aa4d7d",
   "metadata": {
    "cell_marker": "\"\"\"",
    "lines_to_next_cell": 0
   },
   "source": [
    "If you get an error (or just wan't to remove this tutorial completely along with any changes you made), delete the leading comment marker (#) in the cell below and run it, then repeat the above step."
   ]
  },
  {
   "cell_type": "code",
   "execution_count": null,
   "id": "0bc5b9ff",
   "metadata": {
    "lines_to_next_cell": 0
   },
   "outputs": [],
   "source": [
    "#!rm -rf ManagingPython"
   ]
  },
  {
   "cell_type": "markdown",
   "id": "79ec58e6",
   "metadata": {
    "cell_marker": "\"\"\""
   },
   "source": [
    "To open the tutorial after cloning it, click this link: [Managing Python tutorial](./ManagingPython/local_python_env.ipynb)"
   ]
  },
  {
   "cell_type": "markdown",
   "id": "69e73a91",
   "metadata": {
    "cell_marker": "\"\"\"",
    "lines_to_next_cell": 0
   },
   "source": [
    "### **Tutorial:** Using Torch\n",
    "\n",
    "For this notebook to work, you need to run on a GPU-enabled server (choose `GPU Server` from the `Server Options` screen at startup).\n",
    "\n",
    "Install it by running the cell below:"
   ]
  },
  {
   "cell_type": "code",
   "execution_count": null,
   "id": "c60ea8f1",
   "metadata": {
    "lines_to_next_cell": 0
   },
   "outputs": [],
   "source": [
    "!git clone https://github.com/wara-ops/TorchIntro.git"
   ]
  },
  {
   "cell_type": "markdown",
   "id": "19a0cf4b",
   "metadata": {
    "cell_marker": "\"\"\"",
    "lines_to_next_cell": 0
   },
   "source": [
    "If you get an error (or just wan't to remove this tutorial completely along with any changes you made), delete the leading comment marker (#) in the cell below and run it, then repeat the above step."
   ]
  },
  {
   "cell_type": "code",
   "execution_count": null,
   "id": "ab0d96d1",
   "metadata": {
    "lines_to_next_cell": 0
   },
   "outputs": [],
   "source": [
    "#!rm -rf TorchIntro"
   ]
  },
  {
   "cell_type": "markdown",
   "id": "cf7082ab",
   "metadata": {
    "cell_marker": "\"\"\"",
    "lines_to_next_cell": 2
   },
   "source": [
    "To open the tutorial after cloning it, click this link: [Using Torch tutorial](./TorchIntro/torch_pca_corr.ipynb)"
   ]
  }
 ],
 "metadata": {
  "jupytext": {
   "cell_markers": "\"\"\"",
   "formats": "ipynb,py:percent"
  },
  "kernelspec": {
   "display_name": "Python 3 (ipykernel)",
   "language": "python",
   "name": "python3"
  }
 },
 "nbformat": 4,
 "nbformat_minor": 5
}
