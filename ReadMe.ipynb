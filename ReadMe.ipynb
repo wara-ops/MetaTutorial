{
 "cells": [
  {
   "cell_type": "markdown",
   "id": "2923d5f6",
   "metadata": {
    "cell_marker": "\"\"\"",
    "lines_to_next_cell": 0
   },
   "source": [
    "# Introduction to WARA-ops portal\n",
    "\n",
    "As you have gotten this far, the assumption is that you know how to start the JupyterLab environment and how to open a notebook. In what follows, you'll be guided through the key features of the portal, how to access the datasets, and introduced to the most important services available.\n",
    "\n",
    "## Running code in notebooks\n",
    "The easiest way to get started is to write and run code in notebooks. Notebooks consist of *cells* that can be *run* to produce output, like in the cell below. To run it, select it and press the `shift` and `enter` keys simultaneously. Go ahead and try it below!"
   ]
  },
  {
   "cell_type": "code",
   "execution_count": null,
   "id": "7e317744",
   "metadata": {
    "lines_to_next_cell": 0
   },
   "outputs": [],
   "source": [
    "1+3"
   ]
  },
  {
   "cell_type": "markdown",
   "id": "a75993cf",
   "metadata": {
    "cell_marker": "\"\"\"",
    "lines_to_next_cell": 0
   },
   "source": [
    "Try changing the contents of the cell above to something else and run the cell again.\n",
    "\n",
    "The default content of a notebook cell is Python code."
   ]
  },
  {
   "cell_type": "code",
   "execution_count": null,
   "id": "b1ca6ece",
   "metadata": {
    "lines_to_next_cell": 0
   },
   "outputs": [],
   "source": [
    "print(\"Hello Python World!\")"
   ]
  },
  {
   "cell_type": "markdown",
   "id": "d9177880",
   "metadata": {
    "cell_marker": "\"\"\"",
    "lines_to_next_cell": 0
   },
   "source": [
    "Some cells may start with an exclamation mark (!) which indicates that what follows is a [*shell command*](https://en.wikipedia.org/wiki/Unix_shell), e.g.:"
   ]
  },
  {
   "cell_type": "code",
   "execution_count": null,
   "id": "0f94dae4",
   "metadata": {
    "lines_to_next_cell": 0
   },
   "outputs": [],
   "source": [
    "!ls -l"
   ]
  },
  {
   "cell_type": "markdown",
   "id": "2142fd95",
   "metadata": {
    "cell_marker": "\"\"\"",
    "lines_to_next_cell": 0
   },
   "source": [
    "Try it!\n",
    "\n",
    "For more info on notebooks see <https://docs.jupyter.org/en/latest/>"
   ]
  },
  {
   "cell_type": "markdown",
   "id": "41f0966a",
   "metadata": {
    "cell_marker": "\"\"\"",
    "lines_to_next_cell": 0
   },
   "source": [
    "## Getting the tutorials\n",
    "\n",
    "The tutorials are stored in a version control (git) repository and to retrieve a particular tutorial you'll use a `git clone` command, but don't worry, all you have to do is run a cell in this notebook and then click a link to open it.\n",
    "\n",
    "Each tutorial is described below, and they are probably best consumed in order, but you are of course free to skip ahead if you feel adventurous!\n",
    "\n",
    "Should you for some reason want to start over with a fresh tutorial, remember to rename the old tutoral folder if you want to keep your work. If you don't want to keep the old version it is a good idea to delete the old folder using the `rm -rf` command given for each tutorial *before* you run the `git clone` command."
   ]
  },
  {
   "cell_type": "markdown",
   "id": "e9b36032",
   "metadata": {
    "cell_marker": "\"\"\"",
    "lines_to_next_cell": 0
   },
   "source": [
    "### **Tutorial:** Using data from the portal and the data client\n",
    "\n",
    "This basic tutorial will show you how to browse the available datasets and how to access them using the data portal client and a mandatory *access token*. Install it by running the cell below:"
   ]
  },
  {
   "cell_type": "code",
   "execution_count": null,
   "id": "7b41097b",
   "metadata": {
    "lines_to_next_cell": 0
   },
   "outputs": [],
   "source": [
    "!git clone https://github.com/wara-ops/PortalBasics.git"
   ]
  },
  {
   "cell_type": "markdown",
   "id": "c63baf32",
   "metadata": {
    "cell_marker": "\"\"\"",
    "lines_to_next_cell": 0
   },
   "source": [
    "If you get an error (or just wan't to remove this tutorial completely along with any changes you made), delete the leading comment marker (#) in the cell below and run it, then repeat the above step."
   ]
  },
  {
   "cell_type": "code",
   "execution_count": null,
   "id": "07bc75ca",
   "metadata": {
    "lines_to_next_cell": 0
   },
   "outputs": [],
   "source": [
    "#!rm -rf PortalBasics"
   ]
  },
  {
   "cell_type": "markdown",
   "id": "27393a6a",
   "metadata": {
    "cell_marker": "\"\"\""
   },
   "source": [
    "To open the tutorial after cloning it, click this link: [PortalBasics tutorial](./PortalBasics/PortalBasics.ipynb)"
   ]
  },
  {
   "cell_type": "markdown",
   "id": "3f3ead57",
   "metadata": {
    "cell_marker": "\"\"\"",
    "lines_to_next_cell": 0
   },
   "source": [
    "### **Tutorial:** An introduction to the computing environment\n",
    "\n",
    "In this tutorial you will work with log data from the Xerces cloud service that is running in the Ericsson Research Data Center (ER DC) in Lund. The goal is to introduce you to the WARA-Ops portal and learn how to work with large data sets from a real-world cloud service.\n",
    "\n",
    "Install it by running the cell below:"
   ]
  },
  {
   "cell_type": "code",
   "execution_count": null,
   "id": "f74c1b0c",
   "metadata": {
    "lines_to_next_cell": 0
   },
   "outputs": [],
   "source": [
    "!git clone https://github.com/wara-ops/PortalAndPandas.git"
   ]
  },
  {
   "cell_type": "markdown",
   "id": "7ba8d0f5",
   "metadata": {
    "cell_marker": "\"\"\"",
    "lines_to_next_cell": 0
   },
   "source": [
    "If you get an error (or just wan't to remove this tutorial completely along with any changes you made), delete the leading comment marker (#) in the cell below and run it, then repeat the above step."
   ]
  },
  {
   "cell_type": "code",
   "execution_count": null,
   "id": "ef300fe3",
   "metadata": {
    "lines_to_next_cell": 0
   },
   "outputs": [],
   "source": [
    "#!rm -rf PortalAndPandas"
   ]
  },
  {
   "cell_type": "markdown",
   "id": "318e2054",
   "metadata": {
    "cell_marker": "\"\"\""
   },
   "source": [
    "To open the tutorial after cloning it, click this link: [PortalAndPandas tutorial](./PortalAndPandas/introduction.ipynb)"
   ]
  },
  {
   "cell_type": "markdown",
   "id": "b96a610d",
   "metadata": {
    "cell_marker": "\"\"\"",
    "lines_to_next_cell": 0
   },
   "source": [
    "### **Tutorial:** Data analysis (1)\n",
    "\n",
    "This tutorial provides an example on how to work with the data in the `5Gdata` dataset. N.B. This is a *restricted* dataset, and if you don't have access you should probably try \"Data analysis (2)\" below instead.\n",
    "\n",
    "Install it by running the cell below:"
   ]
  },
  {
   "cell_type": "code",
   "execution_count": null,
   "id": "94bd168f",
   "metadata": {
    "lines_to_next_cell": 0
   },
   "outputs": [],
   "source": [
    "!git clone https://github.com/wara-ops/DataAnalysis1.git"
   ]
  },
  {
   "cell_type": "markdown",
   "id": "4bf42f15",
   "metadata": {
    "cell_marker": "\"\"\"",
    "lines_to_next_cell": 0
   },
   "source": [
    "If you get an error (or just wan't to remove this tutorial completely along with any changes you made), delete the leading comment marker (#) in the cell below and run it, then repeat the above step."
   ]
  },
  {
   "cell_type": "code",
   "execution_count": null,
   "id": "0f1ca00e",
   "metadata": {
    "lines_to_next_cell": 0
   },
   "outputs": [],
   "source": [
    "#!rm -rf DataAnalysis1"
   ]
  },
  {
   "cell_type": "markdown",
   "id": "c80d848d",
   "metadata": {
    "cell_marker": "\"\"\""
   },
   "source": [
    "To open the tutorial after cloning it, click this link: [Data analysis 1 tutorial](./DataAnalysis1/5Gdata_example.ipynb)"
   ]
  },
  {
   "cell_type": "markdown",
   "id": "2ea8d3ec",
   "metadata": {
    "cell_marker": "\"\"\"",
    "lines_to_next_cell": 0
   },
   "source": [
    "### **Tutorial:** Data analysis (2)\n",
    "\n",
    "This tutorial provides an example on how to the data in the `ERDCmetrics` dataset can be imported into a jupyter notebook on the compute portal. Some basic studies of the data and clustering are also performed to give you an idea of how the data could be ivestigated.\n",
    "\n",
    "Install it by running the cell below:"
   ]
  },
  {
   "cell_type": "code",
   "execution_count": null,
   "id": "b49a6b0a",
   "metadata": {
    "lines_to_next_cell": 0
   },
   "outputs": [],
   "source": [
    "!git clone https://github.com/wara-ops/DataAnalysis2.git"
   ]
  },
  {
   "cell_type": "markdown",
   "id": "a72af7bc",
   "metadata": {
    "cell_marker": "\"\"\"",
    "lines_to_next_cell": 0
   },
   "source": [
    "If you get an error (or just wan't to remove this tutorial completely along with any changes you made), delete the leading comment marker (#) in the cell below and run it, then repeat the above step."
   ]
  },
  {
   "cell_type": "code",
   "execution_count": null,
   "id": "0eac0abe",
   "metadata": {
    "lines_to_next_cell": 0
   },
   "outputs": [],
   "source": [
    "#!rm -rf DataAnalysis2"
   ]
  },
  {
   "cell_type": "markdown",
   "id": "c50405f1",
   "metadata": {
    "cell_marker": "\"\"\""
   },
   "source": [
    "To open the tutorial after cloning it, click this link: [Data analysis (2) tutorial](./DataAnalysis2/ERDCmetrics_example.ipynb)"
   ]
  },
  {
   "cell_type": "markdown",
   "id": "88ae1210",
   "metadata": {
    "cell_marker": "\"\"\"",
    "lines_to_next_cell": 0
   },
   "source": [
    "### **Tutorial:** Log file analysis\n",
    "\n",
    "In this tutorial you'll be ivestigating a hacking incident by examining log files.\n",
    "\n",
    "Install it by running the cell below:"
   ]
  },
  {
   "cell_type": "code",
   "execution_count": null,
   "id": "c7552e6a",
   "metadata": {
    "lines_to_next_cell": 0
   },
   "outputs": [],
   "source": [
    "!git clone https://github.com/wara-ops/Advenica.git"
   ]
  },
  {
   "cell_type": "markdown",
   "id": "0dbddc6c",
   "metadata": {
    "cell_marker": "\"\"\"",
    "lines_to_next_cell": 0
   },
   "source": [
    "If you get an error (or just wan't to remove this tutorial completely along with any changes you made), delete the leading comment marker (#) in the cell below and run it, then repeat the above step."
   ]
  },
  {
   "cell_type": "code",
   "execution_count": null,
   "id": "4615914e",
   "metadata": {
    "lines_to_next_cell": 0
   },
   "outputs": [],
   "source": [
    "#!rm -rf Advenica"
   ]
  },
  {
   "cell_type": "markdown",
   "id": "f38cb5b7",
   "metadata": {
    "cell_marker": "\"\"\""
   },
   "source": [
    "To open the tutorial after cloning it, click these links: [Advenica tutorial part 1](./Advenica/IntrusionDetection-Part1.ipynb) and [part 2](./Advenica/IntrusionDetection-Part2.ipynb)"
   ]
  },
  {
   "cell_type": "markdown",
   "id": "f5f14399",
   "metadata": {
    "cell_marker": "\"\"\"",
    "lines_to_next_cell": 0
   },
   "source": [
    "### **Tutorial:** LLM-as-a-Service\n",
    "\n",
    "This is a quick introduction to using the AI-related services that are part of the WARA-Ops data portal.\n",
    "\n",
    "Install it by running the cell below:"
   ]
  },
  {
   "cell_type": "code",
   "execution_count": null,
   "id": "e444354f",
   "metadata": {
    "lines_to_next_cell": 0
   },
   "outputs": [],
   "source": [
    "!git clone https://github.com/wara-ops/LLM-as-a-service.git"
   ]
  },
  {
   "cell_type": "markdown",
   "id": "d9e8e1ad",
   "metadata": {
    "cell_marker": "\"\"\"",
    "lines_to_next_cell": 0
   },
   "source": [
    "If you get an error (or just wan't to remove this tutorial completely along with any changes you made), delete the leading comment marker (#) in the cell below and run it, then repeat the above step."
   ]
  },
  {
   "cell_type": "code",
   "execution_count": null,
   "id": "e507c3f8",
   "metadata": {
    "lines_to_next_cell": 0
   },
   "outputs": [],
   "source": [
    "#!rm -rf LLM-as-a-service"
   ]
  },
  {
   "cell_type": "markdown",
   "id": "fe15c985",
   "metadata": {
    "cell_marker": "\"\"\""
   },
   "source": [
    "To open the tutorial after cloning it, click this link: [LLM-as-a-Service tutorial](./LLM-as-a-service/LLM-as-a-service.ipynb)"
   ]
  },
  {
   "cell_type": "markdown",
   "id": "75a2bd4e",
   "metadata": {
    "cell_marker": "\"\"\"",
    "lines_to_next_cell": 0
   },
   "source": [
    "### **Tutorial:** LLM with Retrieval Augmented Generation (RAG)\n",
    "\n",
    "Retrieval Augmented Generation (RAG) is intended to alleviate some of the most obvious problems displayed by Large Language Models (LLMs), such as hallucination (where an LLM starts making up \"facts\" and stating them as such) and not being able to reference the source for its claims. RAG consists of three steps; *retrieval* of context-specific information, *augmenting* (i.e. adding context to) the LLM prompt, and letting the LLM generate an answer taking that context into account, providing references to the context.\n",
    "\n",
    "Install it by running the cell below:"
   ]
  },
  {
   "cell_type": "code",
   "execution_count": null,
   "id": "b1d91d80",
   "metadata": {
    "lines_to_next_cell": 0
   },
   "outputs": [],
   "source": [
    "!git clone https://github.com/wara-ops/RAG-tutorial.git"
   ]
  },
  {
   "cell_type": "markdown",
   "id": "56a62162",
   "metadata": {
    "cell_marker": "\"\"\"",
    "lines_to_next_cell": 0
   },
   "source": [
    "If you get an error (or just wan't to remove this tutorial completely along with any changes you made), delete the leading comment marker (#) in the cell below and run it, then repeat the above step."
   ]
  },
  {
   "cell_type": "code",
   "execution_count": null,
   "id": "e34edc17",
   "metadata": {
    "lines_to_next_cell": 0
   },
   "outputs": [],
   "source": [
    "#!rm -rf RAG-tutorial"
   ]
  },
  {
   "cell_type": "markdown",
   "id": "57faad93",
   "metadata": {
    "cell_marker": "\"\"\""
   },
   "source": [
    "To open the tutorial after cloning it, click this link: [LLM with RAG tutorial](./RAG-tutorial/intro.ipynb)"
   ]
  },
  {
   "cell_type": "markdown",
   "id": "e06b3ab0",
   "metadata": {
    "cell_marker": "\"\"\"",
    "lines_to_next_cell": 0
   },
   "source": [
    "### **Tutorial:** LLM tool calling\n",
    "\n",
    "LLM tool calling bridges the gap between a LLM's natural language processing (NLP) capabilities and external systems, offering versatile applications in automation, data retrieval, and more.\n",
    "\n",
    "Install it by running the cell below:"
   ]
  },
  {
   "cell_type": "code",
   "execution_count": null,
   "id": "a7bbc0df",
   "metadata": {
    "lines_to_next_cell": 0
   },
   "outputs": [],
   "source": [
    "!git clone https://github.com/wara-ops/LLM-tool-calling.git"
   ]
  },
  {
   "cell_type": "markdown",
   "id": "995b404c",
   "metadata": {
    "cell_marker": "\"\"\"",
    "lines_to_next_cell": 0
   },
   "source": [
    "If you get an error (or just wan't to remove this tutorial completely along with any changes you made), delete the leading comment marker (#) in the cell below and run it, then repeat the above step."
   ]
  },
  {
   "cell_type": "code",
   "execution_count": null,
   "id": "9e4c42db",
   "metadata": {
    "lines_to_next_cell": 0
   },
   "outputs": [],
   "source": [
    "#!rm -rf LLM-tool-calling"
   ]
  },
  {
   "cell_type": "markdown",
   "id": "13229082",
   "metadata": {
    "cell_marker": "\"\"\""
   },
   "source": [
    "To open the tutorial after cloning it, click this link: [LLM tool calling tutorial](./LLM-tool-calling/LLM-tool-calling.ipynb)"
   ]
  },
  {
   "cell_type": "markdown",
   "id": "cf4a1067",
   "metadata": {
    "cell_marker": "\"\"\""
   },
   "source": [
    "## Additional/Extra (advanced) subjects"
   ]
  },
  {
   "cell_type": "markdown",
   "id": "78d85f9e",
   "metadata": {
    "cell_marker": "\"\"\"",
    "lines_to_next_cell": 0
   },
   "source": [
    "### **Tutorial:** Managing the python environment\n",
    "\n",
    "Creating a custom virtual environment\n",
    "\n",
    "Install it by running the cell below:"
   ]
  },
  {
   "cell_type": "code",
   "execution_count": null,
   "id": "ca6c8cfc",
   "metadata": {
    "lines_to_next_cell": 0
   },
   "outputs": [],
   "source": [
    "!git clone https://github.com/wara-ops/ManagingPython.git"
   ]
  },
  {
   "cell_type": "markdown",
   "id": "498f7611",
   "metadata": {
    "cell_marker": "\"\"\"",
    "lines_to_next_cell": 0
   },
   "source": [
    "If you get an error (or just wan't to remove this tutorial completely along with any changes you made), delete the leading comment marker (#) in the cell below and run it, then repeat the above step."
   ]
  },
  {
   "cell_type": "code",
   "execution_count": null,
   "id": "d9a1f8a9",
   "metadata": {
    "lines_to_next_cell": 0
   },
   "outputs": [],
   "source": [
    "#!rm -rf ManagingPython"
   ]
  },
  {
   "cell_type": "markdown",
   "id": "f82cd97a",
   "metadata": {
    "cell_marker": "\"\"\""
   },
   "source": [
    "To open the tutorial after cloning it, click this link: [Managing Python tutorial](./ManagingPython/local_python_env.ipynb)"
   ]
  },
  {
   "cell_type": "markdown",
   "id": "51c77a72",
   "metadata": {
    "cell_marker": "\"\"\"",
    "lines_to_next_cell": 0
   },
   "source": [
    "### **Tutorial:** Using Torch\n",
    "\n",
    "For this notebook to work, you need to run on a GPU-enabled server (choose `GPU Server` from the `Server Options` screen at startup).\n",
    "\n",
    "Install it by running the cell below:"
   ]
  },
  {
   "cell_type": "code",
   "execution_count": null,
   "id": "10b321a2",
   "metadata": {
    "lines_to_next_cell": 0
   },
   "outputs": [],
   "source": [
    "!git clone https://github.com/wara-ops/TorchIntro.git"
   ]
  },
  {
   "cell_type": "markdown",
   "id": "fdf2edf2",
   "metadata": {
    "cell_marker": "\"\"\"",
    "lines_to_next_cell": 0
   },
   "source": [
    "If you get an error (or just wan't to remove this tutorial completely along with any changes you made), delete the leading comment marker (#) in the cell below and run it, then repeat the above step."
   ]
  },
  {
   "cell_type": "code",
   "execution_count": null,
   "id": "e3e57781",
   "metadata": {
    "lines_to_next_cell": 0
   },
   "outputs": [],
   "source": [
    "#!rm -rf TorchIntro"
   ]
  },
  {
   "cell_type": "markdown",
   "id": "63c60c63",
   "metadata": {
    "cell_marker": "\"\"\"",
    "lines_to_next_cell": 2
   },
   "source": [
    "To open the tutorial after cloning it, click this link: [Using Torch tutorial](./TorchIntro/torch_pca_corr.ipynb)"
   ]
  }
 ],
 "metadata": {
  "jupytext": {
   "cell_markers": "\"\"\"",
   "formats": "ipynb,py:percent"
  },
  "kernelspec": {
   "display_name": "Python 3 (ipykernel)",
   "language": "python",
   "name": "python3"
  }
 },
 "nbformat": 4,
 "nbformat_minor": 5
}
